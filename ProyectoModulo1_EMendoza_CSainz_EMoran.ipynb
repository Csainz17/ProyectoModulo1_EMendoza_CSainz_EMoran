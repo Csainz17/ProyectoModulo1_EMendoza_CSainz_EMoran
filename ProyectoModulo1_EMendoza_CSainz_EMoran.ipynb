{
 "cells": [
  {
   "cell_type": "markdown",
   "metadata": {},
   "source": [
    "<img style=\"float: left; margin: 30px 15px 15px 15px;\" src=\"https://pngimage.net/wp-content/uploads/2018/06/logo-iteso-png-5.png\" width=\"300\" height=\"500\" /> \n",
    "    \n",
    "    \n",
    "### <font color='navy'> Simulación de procesos financieros. \n",
    "\n",
    "**Nombres:** César Isaac Sainz Nava, Erick David Mendoza Gomez, Emilio Moran \n",
    "\n",
    "**Fecha:** 24 Marzo del 2020.\n",
    "\n",
    "**Expediente** : if714982, if713923\n",
    "**Profesor:** Oscar David Jaramillo Zuluaga\n",
    "\n",
    "# Proyecto Parte 1"
   ]
  },
  {
   "cell_type": "code",
   "execution_count": null,
   "metadata": {},
   "outputs": [],
   "source": []
  }
 ],
 "metadata": {
  "kernelspec": {
   "display_name": "Python 3",
   "language": "python",
   "name": "python3"
  },
  "language_info": {
   "codemirror_mode": {
    "name": "ipython",
    "version": 3
   },
   "file_extension": ".py",
   "mimetype": "text/x-python",
   "name": "python",
   "nbconvert_exporter": "python",
   "pygments_lexer": "ipython3",
   "version": "3.6.5"
  }
 },
 "nbformat": 4,
 "nbformat_minor": 2
}
