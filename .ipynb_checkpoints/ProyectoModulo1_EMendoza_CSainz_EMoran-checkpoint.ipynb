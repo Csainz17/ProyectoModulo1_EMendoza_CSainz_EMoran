{
 "cells": [
  {
   "cell_type": "markdown",
   "metadata": {},
   "source": [
    "<img style=\"float: left; margin: 30px 15px 15px 15px;\" src=\"https://pngimage.net/wp-content/uploads/2018/06/logo-iteso-png-5.png\" width=\"300\" height=\"500\" /> \n",
    "    \n",
    "    \n",
    "### <font color='navy'> Simulación de procesos financieros. \n",
    "\n",
    "**Nombres:** César Isaac Sainz Nava, Erick David Mendoza Gomez, Emilio Moran \n",
    "\n",
    "**Fecha:** 24 Marzo del 2020.\n",
    "\n",
    "**Expediente** : if714982, if713923\n",
    "**Profesor:** Oscar David Jaramillo Zuluaga\n",
    "\n",
    "# Proyecto Parte 1"
   ]
  },
  {
   "cell_type": "markdown",
   "metadata": {},
   "source": [
    "### 1.1 Predicciones Fútbol.\n",
    "> Crear un modelo que nos pueda dar probabilidades de que cierta cosa ocurra en alguna liga que cuente con una base de datos con la información necesaria para realizar el modelo.\n",
    "\n",
    "### 1.2 Objetivos.\n",
    "\n",
    "\n",
    "### 1.3 Definición del problema.\n",
    "> El escenario de negocio a modelar será basado en si se apostara en una de las muchas casas de apuestas online, que tan probable sería ganar, suponiendo que en todas puedes apostar a los eventos que predeciremos. \n",
    "\n",
    "### 1.4 Nodos y variables que se decidieron simular y porqué\n",
    "> Los nodos y variables que tomaremos en cuenta serán los partidos pasados entre dos equipos, tratando de darle más importancia a los partidos más recientes, las estadisticas individuales de ciertos jugadores que podrían afectar el resultado, los tiros de esquina, tiros, o cualquier escenario que creamos importante para la predicción deseada. \n",
    "\n",
    "### 1.5 Definición de hipótesis y supuestos.\n",
    "> Entre nuestros supuestos e hipotesis, estará que se dara por hecho que no hay expulsados, lesionados, o estado de forma de los jugadores, los partidos son jugados sin suspensión, clima no afecta el partido, arbitro no afecta el partido.\n",
    "\n",
    "### 1.6 Obtención de bases de datos\n",
    "> Existen varias páginas web con bases de distintas ligas, una de ellas con datos de la liga premier de Inglaterra es:\n",
    "https://datahub.io/sports-data/english-premier-league"
   ]
  },
  {
   "cell_type": "code",
   "execution_count": null,
   "metadata": {},
   "outputs": [],
   "source": []
  }
 ],
 "metadata": {
  "kernelspec": {
   "display_name": "Python 3",
   "language": "python",
   "name": "python3"
  },
  "language_info": {
   "codemirror_mode": {
    "name": "ipython",
    "version": 3
   },
   "file_extension": ".py",
   "mimetype": "text/x-python",
   "name": "python",
   "nbconvert_exporter": "python",
   "pygments_lexer": "ipython3",
   "version": "3.6.5"
  }
 },
 "nbformat": 4,
 "nbformat_minor": 2
}
